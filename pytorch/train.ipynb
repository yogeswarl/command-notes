{
 "cells": [
  {
   "cell_type": "code",
   "execution_count": 1,
   "metadata": {},
   "outputs": [],
   "source": [
    "#usually used to import all packages\n",
    "import torch "
   ]
  },
  {
   "cell_type": "markdown",
   "metadata": {},
   "source": [
    "## Training a neural network \n",
    "1 epoch is when the neural network has trained all the batches for 1 iteration\n",
    "ReLu stands for Rectified Linear Unit and is a type of activation function \n",
    "\n",
    "### Training steps\n",
    " - Take a batch of samples and targets \n",
    " - Forward pass  (to obtain predictions)\n",
    " - Calculate los  (the mismatch between target and predictions)\n",
    " - backward pass (to compute the gradients of the loss)\n",
    " - update weights of the parameter (using optimizer) w = w - learning rate x [gradient of the loss w.r.t w]"
   ]
  },
  {
   "cell_type": "code",
   "execution_count": 2,
   "metadata": {},
   "outputs": [
    {
     "data": {
      "text/plain": [
       "torch.Size([4, 3])"
      ]
     },
     "execution_count": 2,
     "metadata": {},
     "output_type": "execute_result"
    }
   ],
   "source": [
    "# create an array of n rows and n columns filled with zeros\n",
    "w = torch.zeros(4,3)\n",
    "#  gets the size of zeros\n",
    "w.size() \n",
    "w.shape"
   ]
  },
  {
   "cell_type": "code",
   "execution_count": 4,
   "metadata": {},
   "outputs": [
    {
     "data": {
      "text/plain": [
       "tensor([[-0.7142,  1.4934,  0.8451],\n",
       "        [ 0.1996, -0.1079, -0.6758],\n",
       "        [-2.0869, -1.3709, -1.0126],\n",
       "        [-1.3892,  0.4781,  0.7836]])"
      ]
     },
     "execution_count": 4,
     "metadata": {},
     "output_type": "execute_result"
    }
   ],
   "source": [
    "# create a random tensor using normal distribution\n",
    "w = torch.randn(4,3)\n",
    "w"
   ]
  },
  {
   "cell_type": "code",
   "execution_count": 5,
   "metadata": {},
   "outputs": [
    {
     "data": {
      "text/plain": [
       "tensor([[ 0.1925, -0.4855,  0.7450],\n",
       "        [-2.0761,  1.2648, -0.2728],\n",
       "        [-1.3845,  0.2081, -0.1592],\n",
       "        [-0.6917, -0.4981, -1.9001]])"
      ]
     },
     "execution_count": 5,
     "metadata": {},
     "output_type": "execute_result"
    }
   ],
   "source": [
    "# create a random tensor using another tensor dimensions\n",
    "t = torch.randn_like(w) \n",
    "t"
   ]
  },
  {
   "cell_type": "markdown",
   "metadata": {},
   "source": [
    "In pytorch, any tensor that mutates in place will use the underscore function "
   ]
  },
  {
   "cell_type": "code",
   "execution_count": 6,
   "metadata": {},
   "outputs": [
    {
     "data": {
      "text/plain": [
       "tensor([[1., 1., 1.],\n",
       "        [1., 1., 1.],\n",
       "        [1., 1., 1.],\n",
       "        [1., 1., 1.]])"
      ]
     },
     "execution_count": 6,
     "metadata": {},
     "output_type": "execute_result"
    }
   ],
   "source": [
    "w.fill_(1)"
   ]
  },
  {
   "cell_type": "code",
   "execution_count": 12,
   "metadata": {},
   "outputs": [
    {
     "data": {
      "text/plain": [
       "tensor([[1., 1., 1., 1.],\n",
       "        [1., 1., 1., 1.],\n",
       "        [1., 1., 1., 1.]])"
      ]
     },
     "execution_count": 12,
     "metadata": {},
     "output_type": "execute_result"
    }
   ],
   "source": [
    "#to reshape a tensor \n",
    "t = w.view(2,6)\n",
    "t\n",
    "#let pytorch figure out the other dimension by replacing the column with -1 \n",
    "w.view(3,-1)"
   ]
  },
  {
   "cell_type": "markdown",
   "metadata": {},
   "source": [
    "When converting from a torch tensor to a numpy array, remember that when torch tensor is on cpu,the torch tensor and NumPy array will share their underlying memory location, so changing one will change the other"
   ]
  },
  {
   "cell_type": "code",
   "execution_count": 14,
   "metadata": {},
   "outputs": [
    {
     "data": {
      "text/plain": [
       "array([[1., 1., 1.],\n",
       "       [1., 1., 1.],\n",
       "       [1., 1., 1.],\n",
       "       [1., 1., 1.]], dtype=float32)"
      ]
     },
     "execution_count": 14,
     "metadata": {},
     "output_type": "execute_result"
    }
   ],
   "source": [
    "#convert to a numpy array\n",
    "type(w.numpy())"
   ]
  },
  {
   "cell_type": "markdown",
   "metadata": {},
   "source": [
    "# using autograd "
   ]
  },
  {
   "cell_type": "code",
   "execution_count": 20,
   "metadata": {},
   "outputs": [
    {
     "data": {
      "text/plain": [
       "tensor([[-0.7179, -1.3929, -0.7599],\n",
       "        [-0.8235,  0.7512,  1.0649],\n",
       "        [-0.5350,  1.1465, -1.4948],\n",
       "        [-1.0698,  0.5639,  0.1092]], requires_grad=True)"
      ]
     },
     "execution_count": 20,
     "metadata": {},
     "output_type": "execute_result"
    }
   ],
   "source": [
    "\n",
    "w = torch.randn(4,3,requires_grad=True)\n",
    "w"
   ]
  },
  {
   "cell_type": "code",
   "execution_count": 21,
   "metadata": {},
   "outputs": [
    {
     "data": {
      "text/plain": [
       "tensor([[0.4878, 0.2483, 0.4677],\n",
       "        [0.4389, 2.1195, 2.9005],\n",
       "        [0.5857, 3.1472, 0.2243],\n",
       "        [0.3431, 1.7574, 1.1154]], grad_fn=<ExpBackward0>)"
      ]
     },
     "execution_count": 21,
     "metadata": {},
     "output_type": "execute_result"
    }
   ],
   "source": [
    "y = torch.exp(w)\n",
    "y"
   ]
  },
  {
   "cell_type": "code",
   "execution_count": 22,
   "metadata": {},
   "outputs": [
    {
     "data": {
      "text/plain": [
       "<ExpBackward0 at 0x1b767483430>"
      ]
     },
     "execution_count": 22,
     "metadata": {},
     "output_type": "execute_result"
    }
   ],
   "source": [
    "y.grad_fn"
   ]
  },
  {
   "cell_type": "code",
   "execution_count": 29,
   "metadata": {},
   "outputs": [
    {
     "data": {
      "text/plain": [
       "tensor(1.1530, grad_fn=<MeanBackward0>)"
      ]
     },
     "execution_count": 29,
     "metadata": {},
     "output_type": "execute_result"
    }
   ],
   "source": [
    "outp = y.mean() \n",
    "outp"
   ]
  },
  {
   "cell_type": "code",
   "execution_count": 30,
   "metadata": {},
   "outputs": [
    {
     "data": {
      "text/plain": [
       "tensor([[0.0406, 0.0207, 0.0390],\n",
       "        [0.0366, 0.1766, 0.2417],\n",
       "        [0.0488, 0.2623, 0.0187],\n",
       "        [0.0286, 0.1465, 0.0929]])"
      ]
     },
     "execution_count": 30,
     "metadata": {},
     "output_type": "execute_result"
    }
   ],
   "source": [
    "w.grad"
   ]
  },
  {
   "cell_type": "code",
   "execution_count": 26,
   "metadata": {},
   "outputs": [],
   "source": [
    "outp.backward()"
   ]
  },
  {
   "cell_type": "code",
   "execution_count": 27,
   "metadata": {},
   "outputs": [
    {
     "data": {
      "text/plain": [
       "tensor([[0.0406, 0.0207, 0.0390],\n",
       "        [0.0366, 0.1766, 0.2417],\n",
       "        [0.0488, 0.2623, 0.0187],\n",
       "        [0.0286, 0.1465, 0.0929]])"
      ]
     },
     "execution_count": 27,
     "metadata": {},
     "output_type": "execute_result"
    }
   ],
   "source": [
    "w.grad"
   ]
  },
  {
   "cell_type": "markdown",
   "metadata": {},
   "source": [
    "Optimizers\n",
    "Remember to zero out gradients for each epoch  using optimizer.zero_grad()"
   ]
  },
  {
   "cell_type": "markdown",
   "metadata": {},
   "source": [
    "CPU to GPU\n",
    " **Remember** : Model should be converted to cpu for testing, the samples and labels are automatically converted to cpu,\n",
    " \n",
    " "
   ]
  },
  {
   "cell_type": "code",
   "execution_count": null,
   "metadata": {},
   "outputs": [],
   "source": [
    "#choose if cpu or gpu\n",
    "device  = torch.device('cuda' if torch.cuda.is_available() else 'cpu')\n",
    "#change manually\n",
    "device.to('cpu')"
   ]
  }
 ],
 "metadata": {
  "kernelspec": {
   "display_name": "Python 3.8.0 64-bit",
   "language": "python",
   "name": "python3"
  },
  "language_info": {
   "codemirror_mode": {
    "name": "ipython",
    "version": 3
   },
   "file_extension": ".py",
   "mimetype": "text/x-python",
   "name": "python",
   "nbconvert_exporter": "python",
   "pygments_lexer": "ipython3",
   "version": "3.8.0"
  },
  "orig_nbformat": 4,
  "vscode": {
   "interpreter": {
    "hash": "226521e4578a8e220f91f6b859566626c2319abf7134546e4606b29861275d18"
   }
  }
 },
 "nbformat": 4,
 "nbformat_minor": 2
}
